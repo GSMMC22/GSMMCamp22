{
 "cells": [
  {
   "cell_type": "markdown",
   "id": "c60ab4e8",
   "metadata": {},
   "source": [
    "## Modeling rain accretion"
   ]
  },
  {
   "cell_type": "markdown",
   "id": "b0e38aa5",
   "metadata": {},
   "source": [
    "### Define reference variables"
   ]
  },
  {
   "cell_type": "code",
   "execution_count": 1,
   "id": "92e5765d",
   "metadata": {},
   "outputs": [],
   "source": [
    "using QuadGK"
   ]
  },
  {
   "cell_type": "code",
   "execution_count": 3,
   "id": "e8a34580",
   "metadata": {},
   "outputs": [
    {
     "data": {
      "text/plain": [
       "6.886286768247852"
      ]
     },
     "execution_count": 3,
     "metadata": {},
     "output_type": "execute_result"
    }
   ],
   "source": [
    "rho_w = 998\n",
    "rho_a = 1\n",
    "g = 9.81\n",
    "C_d = 0.55\n",
    "m_e = 3\n",
    "r_0 = 1e-3\n",
    "m_0 = 4*pi*rho_w*r_0*r_0*r_0/3\n",
    "r_0 = 1e-3\n",
    "n_0 = 16e6\n",
    "a_0 = pi*r_0*r_0\n",
    "lambda = 1\n",
    "v_0 = sqrt((8*g*r_0*(rho_w - rho_a))/(3*C_d*rho_a))"
   ]
  },
  {
   "cell_type": "code",
   "execution_count": 4,
   "id": "591ef107",
   "metadata": {},
   "outputs": [
    {
     "data": {
      "text/plain": [
       "1.0e-8:1.0090909090909091e-7:1.0e-5"
      ]
     },
     "execution_count": 4,
     "metadata": {},
     "output_type": "execute_result"
    }
   ],
   "source": [
    "q_liq = range(1e-8, 1e-5, 100)"
   ]
  },
  {
   "cell_type": "code",
   "execution_count": 5,
   "id": "134c4791",
   "metadata": {},
   "outputs": [
    {
     "data": {
      "text/plain": [
       "(3.0461654221614074, 5.1640094336086184e-9)"
      ]
     },
     "execution_count": 5,
     "metadata": {},
     "output_type": "execute_result"
    }
   ],
   "source": [
    "f(r) = exp(-lambda*r)*r^(5/2)\n",
    "I,err = quadgk(f, 0, 2pi, rtol=1e-8)"
   ]
  }
 ],
 "metadata": {
  "kernelspec": {
   "display_name": "Julia 1.7.3",
   "language": "julia",
   "name": "julia-1.7"
  },
  "language_info": {
   "file_extension": ".jl",
   "mimetype": "application/julia",
   "name": "julia",
   "version": "1.7.3"
  }
 },
 "nbformat": 4,
 "nbformat_minor": 5
}
