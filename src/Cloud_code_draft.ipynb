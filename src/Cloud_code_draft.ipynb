{
 "cells": [
  {
   "cell_type": "markdown",
   "id": "c60ab4e8",
   "metadata": {},
   "source": [
    "## Modeling rain accretion"
   ]
  },
  {
   "cell_type": "markdown",
   "id": "b0e38aa5",
   "metadata": {},
   "source": [
    "### Define reference variables"
   ]
  },
  {
   "cell_type": "code",
   "execution_count": 9,
   "id": "92e5765d",
   "metadata": {},
   "outputs": [],
   "source": [
    "using QuadGK\n",
    "using SpecialFunctions"
   ]
  },
  {
   "cell_type": "code",
   "execution_count": 98,
   "id": "e8a34580",
   "metadata": {},
   "outputs": [
    {
     "data": {
      "text/plain": [
       "0.8"
      ]
     },
     "execution_count": 98,
     "metadata": {},
     "output_type": "execute_result"
    }
   ],
   "source": [
    "rho_w = 998\n",
    "rho_a = 1\n",
    "g = 9.81\n",
    "C_d = 0.55\n",
    "m_e = 3\n",
    "r_0 = 1e-3\n",
    "r_0 = 1e-3\n",
    "n_0 = 16e6\n",
    "q_c = range(1e-8, 5e-3, 100)\n",
    "E_cp = 0.8"
   ]
  },
  {
   "cell_type": "code",
   "execution_count": 99,
   "id": "ed4766c4",
   "metadata": {},
   "outputs": [
    {
     "data": {
      "text/plain": [
       "6.886286768247852"
      ]
     },
     "execution_count": 99,
     "metadata": {},
     "output_type": "execute_result"
    }
   ],
   "source": [
    "m_0 = 4*pi*rho_w*r_0*r_0*r_0/3\n",
    "a_0 = pi*r_0*r_0\n",
    "v_0 = sqrt((8*g*r_0*(rho_w - rho_a))/(3*C_d*rho_a))\n",
    "# lambda = ((gamma(m_e+1)*m_0*n_0)/(q_c*rho_w*(r_0^m_e))).^(1/(m_e+1))"
   ]
  },
  {
   "cell_type": "code",
   "execution_count": 100,
   "id": "e97c8fc8",
   "metadata": {},
   "outputs": [
    {
     "data": {
      "text/plain": [
       "f (generic function with 1 method)"
      ]
     },
     "execution_count": 100,
     "metadata": {},
     "output_type": "execute_result"
    }
   ],
   "source": [
    "f(r) = [exp(-(((gamma(m_e+1)*m_0*n_0)/(q*rho_w*(r_0^m_e))).^(1/(m_e+1)))*r)*r^(5/2) for q in q_c]"
   ]
  },
  {
   "cell_type": "code",
   "execution_count": 101,
   "id": "134c4791",
   "metadata": {},
   "outputs": [
    {
     "data": {
      "text/plain": [
       "([9.83469912415687e-15, 1.7110148507259943e-11, 3.137743293492319e-11, 4.473884031282986e-11, 5.75439734887408e-11, 6.995074539247136e-11, 8.20490258255749e-11, 9.389664579103598e-11, 1.0553382729360304e-10, 1.16990096905304e-10  …  8.772867632334086e-10, 8.858100228550897e-10, 8.943215825153481e-10, 9.028215851925636e-10, 9.113101706001526e-10, 9.19787475295045e-10, 9.282536327814572e-10, 9.367087736102023e-10, 9.45153025473788e-10, 9.53586513297507e-10], 4.5299919633020224e-17)"
      ]
     },
     "execution_count": 101,
     "metadata": {},
     "output_type": "execute_result"
    }
   ],
   "source": [
    "I,err = quadgk(f, 0, Inf, rtol=1e-8)"
   ]
  },
  {
   "cell_type": "code",
   "execution_count": 102,
   "id": "c3e41d6a",
   "metadata": {},
   "outputs": [
    {
     "data": {
      "text/plain": [
       "100-element Vector{Float64}:\n",
       " 8.612039726944e-20\n",
       " 1.4982998139362686e-16\n",
       " 2.7476559837131356e-16\n",
       " 3.9176864004421255e-16\n",
       " 5.039005052162523e-16\n",
       " 6.125440042894589e-16\n",
       " 7.184861082646319e-16\n",
       " 8.22233231104074e-16\n",
       " 9.241375884662595e-16\n",
       " 1.0244577383488399e-15\n",
       " 1.123391194788697e-15\n",
       " 1.2210935325636104e-15\n",
       " 1.3176903086938777e-15\n",
       " ⋮\n",
       " 7.532630850215146e-15\n",
       " 7.607476030540501e-15\n",
       " 7.682216162902636e-15\n",
       " 7.756852559541022e-15\n",
       " 7.831386502071452e-15\n",
       " 7.90581924252561e-15\n",
       " 7.980152004344575e-15\n",
       " 8.054385983328738e-15\n",
       " 8.128522348546516e-15\n",
       " 8.202562243203998e-15\n",
       " 8.276506785477684e-15\n",
       " 8.350357069312161e-15"
      ]
     },
     "execution_count": 102,
     "metadata": {},
     "output_type": "execute_result"
    }
   ],
   "source": [
    "dq_dt = n_0*a_0*v_0*E_cp*(r_0^(5/2))*I"
   ]
  },
  {
   "cell_type": "code",
   "execution_count": null,
   "id": "2dede33f",
   "metadata": {},
   "outputs": [],
   "source": []
  }
 ],
 "metadata": {
  "kernelspec": {
   "display_name": "Julia 1.7.3",
   "language": "julia",
   "name": "julia-1.7"
  },
  "language_info": {
   "file_extension": ".jl",
   "mimetype": "application/julia",
   "name": "julia",
   "version": "1.7.3"
  }
 },
 "nbformat": 4,
 "nbformat_minor": 5
}
